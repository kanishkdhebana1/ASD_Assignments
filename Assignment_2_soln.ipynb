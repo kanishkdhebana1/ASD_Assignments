{
  "nbformat": 4,
  "nbformat_minor": 0,
  "metadata": {
    "colab": {
      "provenance": []
    },
    "kernelspec": {
      "name": "python3",
      "display_name": "Python 3"
    },
    "language_info": {
      "name": "python"
    }
  },
  "cells": [
    {
      "cell_type": "code",
      "execution_count": null,
      "metadata": {
        "colab": {
          "base_uri": "https://localhost:8080/"
        },
        "id": "vuKimterm5WW",
        "outputId": "619dc3bb-95b2-41bf-febf-2c41d4fbb3f9"
      },
      "outputs": [
        {
          "output_type": "stream",
          "name": "stdout",
          "text": [
            "Total Bill: 60\n"
          ]
        }
      ],
      "source": [
        "def calculate_total_bill(items):\n",
        "    total = 0\n",
        "    for item in items:\n",
        "        price, quantity = item['price'], item['quantity']\n",
        "        total += price * quantity\n",
        "    return total\n",
        "\n",
        "items = [{'price': 10, 'quantity': 3}, {'price': 5, 'quantity': 6}]\n",
        "print(\"Total Bill:\", calculate_total_bill(items))\n"
      ]
    },
    {
      "cell_type": "code",
      "source": [
        "def generate_report(name, marks):\n",
        "    avg = sum(marks) / len(marks)\n",
        "    if avg >= 90:\n",
        "        grade = 'A'\n",
        "\n",
        "    elif avg >= 75:\n",
        "        grade = 'B'\n",
        "\n",
        "    elif avg >= 50:\n",
        "        grade = 'C'\n",
        "\n",
        "    else:\n",
        "        grade = 'F'\n",
        "\n",
        "    return avg, grade\n",
        "\n",
        "average, grade = generate_report(\"John\", [85, 90, 78])\n",
        "\n",
        "print(f\"Average: {average}, Grade: {grade}\")\n"
      ],
      "metadata": {
        "colab": {
          "base_uri": "https://localhost:8080/"
        },
        "id": "nHH5MlH1m74k",
        "outputId": "285d5b96-ea5c-4f08-dc83-6045dcddab18"
      },
      "execution_count": null,
      "outputs": [
        {
          "output_type": "stream",
          "name": "stdout",
          "text": [
            "Average: 84.33333333333333, Grade: B\n"
          ]
        }
      ]
    },
    {
      "cell_type": "code",
      "source": [
        "def convert_temperature(value, to_fahrenheit = True):\n",
        "    if to_fahrenheit:\n",
        "        return (value * 9/5) + 32\n",
        "    else:\n",
        "        return (value - 32) * 5/9\n",
        "\n",
        "print(\"100°C to °F:\", convert_temperature(100))\n",
        "print(\"212°F to °C:\", convert_temperature(212, False))\n"
      ],
      "metadata": {
        "colab": {
          "base_uri": "https://localhost:8080/"
        },
        "id": "eBlN0C2znW8m",
        "outputId": "be687831-dd27-4825-842b-f2171c116a61"
      },
      "execution_count": null,
      "outputs": [
        {
          "output_type": "stream",
          "name": "stdout",
          "text": [
            "100°C to °F: 212.0\n",
            "212°F to °C: 100.0\n"
          ]
        }
      ]
    },
    {
      "cell_type": "code",
      "source": [
        "class Employee:\n",
        "    def __init__(self, name, emp_id, salary):\n",
        "        self.name = name\n",
        "        self.emp_id = emp_id\n",
        "        self.salary = salary\n",
        "\n",
        "    def display_details(self):\n",
        "        print(f\"Name: {self.name}, ID: {self.emp_id}, Salary: {self.salary}\")\n",
        "\n",
        "\n",
        "emp = Employee(\"Alice\", 101, 50000)\n",
        "emp.display_details()\n"
      ],
      "metadata": {
        "colab": {
          "base_uri": "https://localhost:8080/"
        },
        "id": "ZT8pjufQnhuB",
        "outputId": "baeef782-b7c3-4771-e0c1-7159f613e8e4"
      },
      "execution_count": null,
      "outputs": [
        {
          "output_type": "stream",
          "name": "stdout",
          "text": [
            "Name: Alice, ID: 101, Salary: 50000\n"
          ]
        }
      ]
    },
    {
      "cell_type": "code",
      "source": [
        "class BankAccount:\n",
        "    def __init__(self):\n",
        "        self.balance = 0\n",
        "\n",
        "    def deposit(self, amount):\n",
        "        self.balance += amount\n",
        "\n",
        "    def withdraw(self, amount):\n",
        "        if self.balance >= amount:\n",
        "            self.balance -= amount\n",
        "        else:\n",
        "            print(\"Insufficient balance.\")\n",
        "\n",
        "    def check_balance(self):\n",
        "        return self.balance\n",
        "\n",
        "\n",
        "account = BankAccount()\n",
        "print(\"Initial Balance:\", account.check_balance())\n",
        "account.deposit(1000)\n",
        "print(\"After Deposit:\", account.check_balance())\n",
        "account.withdraw(500)\n",
        "print(\"After Withdraw:\", account.check_balance())\n"
      ],
      "metadata": {
        "colab": {
          "base_uri": "https://localhost:8080/"
        },
        "id": "kVRgiH9-n1a7",
        "outputId": "2ed64731-4412-4f8a-e51f-1761e33aafec"
      },
      "execution_count": null,
      "outputs": [
        {
          "output_type": "stream",
          "name": "stdout",
          "text": [
            "Initial Balance: 0\n",
            "After Deposit: 1000\n",
            "After Withdraw: 500\n"
          ]
        }
      ]
    },
    {
      "cell_type": "code",
      "source": [
        "class MovieTicket:\n",
        "    def __init__(self, movie_name, seat_number, price):\n",
        "        self.movie_name = movie_name\n",
        "        self.seat_number = seat_number\n",
        "        self.price = price\n",
        "\n",
        "    def calculate_total(self, quantity):\n",
        "        return self.price * quantity\n",
        "\n",
        "\n",
        "ticket = MovieTicket(\"Fantastic Four: First Steps\", \"F4\", 250)\n",
        "print(\"Total for 3 tickets:\", ticket.calculate_total(3))\n"
      ],
      "metadata": {
        "colab": {
          "base_uri": "https://localhost:8080/"
        },
        "id": "CC2catPDoPBQ",
        "outputId": "e8d2f0eb-6ada-4982-c089-a63dfe81ac56"
      },
      "execution_count": null,
      "outputs": [
        {
          "output_type": "stream",
          "name": "stdout",
          "text": [
            "Total for 3 tickets: 750\n"
          ]
        }
      ]
    },
    {
      "cell_type": "code",
      "source": [
        "class Book:\n",
        "    def __init__(self, title, author):\n",
        "        self.title = title\n",
        "        self.author = author\n",
        "        self.available = True\n",
        "\n",
        "    def borrow(self):\n",
        "        if self.available:\n",
        "            self.available = False\n",
        "            print(f\"You borrowed '{self.title}'.\")\n",
        "        else:\n",
        "            print(\"Book not available.\")\n",
        "\n",
        "    def return_book(self):\n",
        "        self.available = True\n",
        "        print(f\"You returned '{self.title}'.\")\n",
        "\n",
        "\n",
        "book = Book(\"Three Men in a Boat\", \"Jerome Klapka Jerome\")\n",
        "book.borrow()\n",
        "book.return_book()\n"
      ],
      "metadata": {
        "colab": {
          "base_uri": "https://localhost:8080/"
        },
        "id": "BfvCFPhAomvq",
        "outputId": "62fa0090-3996-49a7-8694-f0a5ac0c9bd9"
      },
      "execution_count": null,
      "outputs": [
        {
          "output_type": "stream",
          "name": "stdout",
          "text": [
            "You borrowed 'Three Men in a Boat'.\n",
            "You returned 'Three Men in a Boat'.\n"
          ]
        }
      ]
    },
    {
      "cell_type": "code",
      "source": [
        "class Car:\n",
        "    def __init__(self, brand, model, daily_rent):\n",
        "        self.brand = brand\n",
        "        self.model = model\n",
        "        self.daily_rent = daily_rent\n",
        "\n",
        "    def calculate_rent(self, days):\n",
        "        return self.daily_rent * days\n",
        "\n",
        "\n",
        "car = Car(\"Toyota\", \"Innova Crysta\", 70)\n",
        "print(\"Rent for 5 days:\", car.calculate_rent(5))\n"
      ],
      "metadata": {
        "colab": {
          "base_uri": "https://localhost:8080/"
        },
        "id": "NrP2s_djo-g7",
        "outputId": "1f269663-052c-4ec6-f1d1-8144510965d1"
      },
      "execution_count": null,
      "outputs": [
        {
          "output_type": "stream",
          "name": "stdout",
          "text": [
            "Rent for 5 days: 350\n"
          ]
        }
      ]
    },
    {
      "cell_type": "code",
      "source": [
        "class Course:\n",
        "    def __init__(self, name, total_modules, completed_modules):\n",
        "        self.name = name\n",
        "        self.total_modules = total_modules\n",
        "        self.completed_modules = completed_modules\n",
        "\n",
        "    def progress(self):\n",
        "        percent = (self.completed_modules / self.total_modules) * 100\n",
        "        print(f\"Progress in {self.name}: {percent:.2f}%\")\n",
        "\n",
        "\n",
        "course = Course(\"Data Science\", 20, 10)\n",
        "course.progress()\n"
      ],
      "metadata": {
        "colab": {
          "base_uri": "https://localhost:8080/"
        },
        "id": "0BpCA7AGpTie",
        "outputId": "5ed8bb80-84f2-43da-e76d-990db5d728ad"
      },
      "execution_count": null,
      "outputs": [
        {
          "output_type": "stream",
          "name": "stdout",
          "text": [
            "Progress in Data Science: 50.00%\n"
          ]
        }
      ]
    },
    {
      "cell_type": "code",
      "source": [
        "def restaurant_bill(orders):\n",
        "    total = sum(item['price'] for item in orders)\n",
        "    count = len(orders)\n",
        "    return total, count\n",
        "\n",
        "\n",
        "orders = [{'item': 'Burger', 'price': 100}, {'item': 'Fries', 'price': 50}]\n",
        "total, count = restaurant_bill(orders)\n",
        "print(f\"Total: {total}, Items: {count}\")\n"
      ],
      "metadata": {
        "colab": {
          "base_uri": "https://localhost:8080/"
        },
        "id": "gj_geLATperI",
        "outputId": "c83876b4-0b6f-4998-ccf5-e35188490540"
      },
      "execution_count": null,
      "outputs": [
        {
          "output_type": "stream",
          "name": "stdout",
          "text": [
            "Total: 150, Items: 2\n"
          ]
        }
      ]
    },
    {
      "cell_type": "code",
      "source": [
        "from abc import ABC, abstractmethod\n",
        "\n",
        "class ATM(ABC):\n",
        "    def __init__(self, balance):\n",
        "        self.__balance = balance\n",
        "\n",
        "    def withdraw(self, amount):\n",
        "        if amount <= self.__balance:\n",
        "            self.__balance -= amount\n",
        "            print(f\"Withdrew {amount}\")\n",
        "        else:\n",
        "            print(\"Insufficient funds.\")\n",
        "\n",
        "    def deposit(self, amount):\n",
        "        self.__balance += amount\n",
        "        print(f\"Deposited {amount}\")\n",
        "\n",
        "    def check_balance(self):\n",
        "        print(f\"Balance: {self.__balance}\")\n",
        "\n",
        "# Example:\n",
        "atm = ATM(1000)\n",
        "atm.deposit(500)\n",
        "atm.withdraw(300)\n",
        "atm.check_balance()\n"
      ],
      "metadata": {
        "colab": {
          "base_uri": "https://localhost:8080/"
        },
        "id": "LOOQzgCVpprr",
        "outputId": "575b996d-96ff-4e50-b9d6-f81ed50be372"
      },
      "execution_count": null,
      "outputs": [
        {
          "output_type": "stream",
          "name": "stdout",
          "text": [
            "Deposited 500\n",
            "Withdrew 300\n",
            "Balance: 1200\n"
          ]
        }
      ]
    },
    {
      "cell_type": "code",
      "source": [
        "class Student:\n",
        "    def __init__(self, name):\n",
        "        self.name = name\n",
        "        self.__marks = 0\n",
        "\n",
        "    def set_marks(self, marks):\n",
        "        if 0 <= marks <= 100:\n",
        "            self.__marks = marks\n",
        "        else:\n",
        "            print(\"Invalid marks.\")\n",
        "\n",
        "    def get_marks(self):\n",
        "        return self.__marks\n",
        "\n",
        "\n",
        "s = Student(\"Emma\")\n",
        "s.set_marks(85)\n",
        "print(f\"{s.name}'s Marks:\", s.get_marks())\n"
      ],
      "metadata": {
        "colab": {
          "base_uri": "https://localhost:8080/"
        },
        "id": "4ESawj5CpqFt",
        "outputId": "89d99649-fbce-4de8-bc00-46fd8b14f85e"
      },
      "execution_count": null,
      "outputs": [
        {
          "output_type": "stream",
          "name": "stdout",
          "text": [
            "Emma's Marks: 85\n"
          ]
        }
      ]
    },
    {
      "cell_type": "code",
      "source": [
        "class Vehicle:\n",
        "    def __init__(self, brand, model):\n",
        "        self.brand = brand\n",
        "        self.model = model\n",
        "\n",
        "class Car(Vehicle):\n",
        "    def car_feature(self):\n",
        "        print(f\"{self.brand} {self.model} is a car.\")\n",
        "\n",
        "class Bike(Vehicle):\n",
        "    def bike_feature(self):\n",
        "        print(f\"{self.brand} {self.model} is a bike.\")\n",
        "\n",
        "class Truck(Vehicle):\n",
        "    def truck_feature(self):\n",
        "        print(f\"{self.brand} {self.model} is a truck.\")\n",
        "\n",
        "\n",
        "c = Car(\"Suzuki\", \"Swift\")\n",
        "c.car_feature()\n",
        "\n",
        "b = Bike(\"Bajaj\", \"V\")\n",
        "b.bike_feature()\n"
      ],
      "metadata": {
        "colab": {
          "base_uri": "https://localhost:8080/"
        },
        "id": "o0E1Zlj_qAHm",
        "outputId": "f000e0a6-d285-4ab3-82c4-49e6f3bd6e77"
      },
      "execution_count": null,
      "outputs": [
        {
          "output_type": "stream",
          "name": "stdout",
          "text": [
            "Suzuki Swift is a car.\n",
            "Bajaj V is a bike.\n"
          ]
        }
      ]
    },
    {
      "cell_type": "code",
      "source": [
        "class Payment:\n",
        "    def make_payment(self):\n",
        "        pass\n",
        "\n",
        "class CreditCard(Payment):\n",
        "    def make_payment(self):\n",
        "        print(\"Paid using Credit Card.\")\n",
        "\n",
        "class DebitCard(Payment):\n",
        "    def make_payment(self):\n",
        "        print(\"Paid using Debit Card.\")\n",
        "\n",
        "class UPI(Payment):\n",
        "    def make_payment(self):\n",
        "        print(\"Paid using UPI.\")\n",
        "\n",
        "\n",
        "payments = [CreditCard(), DebitCard(), UPI()]\n",
        "for p in payments:\n",
        "    p.make_payment()\n"
      ],
      "metadata": {
        "colab": {
          "base_uri": "https://localhost:8080/"
        },
        "id": "SzqjrrxeqHvt",
        "outputId": "355add3e-1d47-4096-db79-578352ed72b2"
      },
      "execution_count": null,
      "outputs": [
        {
          "output_type": "stream",
          "name": "stdout",
          "text": [
            "Paid using Credit Card.\n",
            "Paid using Debit Card.\n",
            "Paid using UPI.\n"
          ]
        }
      ]
    },
    {
      "cell_type": "code",
      "source": [],
      "metadata": {
        "id": "mPt6-LYOqWt3"
      },
      "execution_count": null,
      "outputs": []
    }
  ]
}